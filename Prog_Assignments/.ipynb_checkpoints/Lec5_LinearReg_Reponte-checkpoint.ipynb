{
 "cells": [
  {
   "cell_type": "code",
   "execution_count": 27,
   "id": "31a6fb31-ddb2-4f39-8b3d-089f831409dd",
   "metadata": {},
   "outputs": [],
   "source": [
    "import numpy as np\n",
    "import pandas as pd\n",
    "import matplotlib.pyplot as plt\n",
    "import seaborn as sns\n",
    "import scipy as sp\n",
    "\n",
    "from sklearn.model_selection import train_test_split\n",
    "from sklearn.linear_model import LinearRegression\n",
    "from sklearn.metrics import mean_absolute_error,mean_squared_error,r2_score\n",
    "from joblib import dump, load\n",
    "from sklearn.preprocessing import StandardScaler, OneHotEncoder\n",
    "from sklearn.compose import ColumnTransformer\n",
    "from sklearn.pipeline import Pipeline\n"
   ]
  },
  {
   "cell_type": "markdown",
   "id": "552ce1ac-8b53-4306-86de-259eaf5aaca6",
   "metadata": {},
   "source": [
    "# Instructions:\r\n",
    "----<br>Ronan Jasper Reponte <br>\r\n",
    "\r\n",
    "1. Choose a data from https://archive.ics.uci.edu\r\n",
    "2. Perform regression analysis on your chosen dataset"
   ]
  },
  {
   "cell_type": "code",
   "execution_count": 31,
   "id": "2b25e380-8293-4f47-a581-505bc4fac9e9",
   "metadata": {},
   "outputs": [
    {
     "name": "stdout",
     "output_type": "stream",
     "text": [
      "Results for G1:\n",
      "Mean Squared Error: 7.411687513223679\n",
      "R-squared: 0.13663138286820942\n",
      "\n",
      "Results for G2:\n",
      "Mean Squared Error: 7.983683459270719\n",
      "R-squared: 0.1129007307116876\n",
      "\n",
      "Results for G3:\n",
      "Mean Squared Error: 8.189784412019225\n",
      "R-squared: 0.16016991964318272\n",
      "\n"
     ]
    }
   ],
   "source": [
    "import pandas as pd\n",
    "from ucimlrepo import fetch_ucirepo\n",
    "from sklearn.model_selection import train_test_split\n",
    "from sklearn.linear_model import LinearRegression\n",
    "from sklearn.metrics import mean_squared_error, r2_score\n",
    "from sklearn.preprocessing import StandardScaler, OneHotEncoder\n",
    "from sklearn.compose import ColumnTransformer\n",
    "from sklearn.pipeline import Pipeline\n",
    "\n",
    "# Fetch dataset\n",
    "student_performance = fetch_ucirepo(id=320)\n",
    "\n",
    "# Data\n",
    "df = student_performance.data.features\n",
    "df_targets = student_performance.data.targets\n",
    "\n",
    "# Combine features and target columns into a single DataFrame\n",
    "df_combined = pd.concat([df, df_targets], axis=1)\n",
    "\n",
    "# List of target columns\n",
    "target_columns = ['G1', 'G2', 'G3']\n",
    "\n",
    "# Identify categorical and numerical columns\n",
    "categorical_columns = ['school', 'sex', 'address', 'famsize', 'Pstatus', 'Mjob', 'Fjob', 'reason', 'guardian', \n",
    "                       'schoolsup', 'famsup', 'paid', 'activities', 'nursery', 'higher', 'internet', 'romantic']\n",
    "numerical_columns = ['age', 'Medu', 'Fedu', 'traveltime', 'studytime', 'failures', 'famrel', 'freetime', \n",
    "                     'goout', 'Dalc', 'Walc', 'health', 'absences']\n",
    "\n",
    "# Preprocessing pipeline for numerical data\n",
    "numerical_pipeline = Pipeline(steps=[\n",
    "    ('scaler', StandardScaler())\n",
    "])\n",
    "\n",
    "# Preprocessing pipeline for categorical data\n",
    "categorical_pipeline = Pipeline(steps=[\n",
    "    ('onehot', OneHotEncoder(drop='first'))  # drop='first' to avoid dummy variable trap\n",
    "])\n",
    "\n",
    "# Combine preprocessing pipelines\n",
    "preprocessor = ColumnTransformer(transformers=[\n",
    "    ('num', numerical_pipeline, numerical_columns),\n",
    "    ('cat', categorical_pipeline, categorical_columns)\n",
    "])\n",
    "\n",
    "# Perform regression analysis for each target column\n",
    "results = {}\n",
    "\n",
    "for target in target_columns:\n",
    "    X = df_combined.drop(columns=target_columns)  # Features (excluding target columns)\n",
    "    y = df_combined[target]  # Target variable\n",
    "\n",
    "    # Split the data into training and testing sets\n",
    "    X_train, X_test, y_train, y_test = train_test_split(X, y, test_size=0.2, random_state=42)\n",
    "\n",
    "    # Create a pipeline that includes preprocessing and model fitting\n",
    "    model_pipeline = Pipeline(steps=[\n",
    "        ('preprocessor', preprocessor),\n",
    "        ('regressor', LinearRegression())\n",
    "    ])\n",
    "\n",
    "    # Fit the model to the training data\n",
    "    model_pipeline.fit(X_train, y_train)\n",
    "\n",
    "    # Predict the target variable for the testing data\n",
    "    y_pred = model_pipeline.predict(X_test)\n",
    "\n",
    "    # Evaluate the performance of the model\n",
    "    mse = mean_squared_error(y_test, y_pred)\n",
    "    r2 = r2_score(y_test, y_pred)\n",
    "\n",
    "    # Store the results\n",
    "    results[target] = {'Mean Squared Error': mse, 'R-squared': r2}\n",
    "\n",
    "# Print the results\n",
    "for target, metrics in results.items():\n",
    "    print(f\"Results for {target}:\")\n",
    "    print(f\"Mean Squared Error: {metrics['Mean Squared Error']}\")\n",
    "    print(f\"R-squared: {metrics['R-squared']}\")\n",
    "    print()\n"
   ]
  },
  {
   "cell_type": "code",
   "execution_count": 32,
   "id": "fbd8ecda-ccc2-49b2-ac58-a865aeebf78b",
   "metadata": {},
   "outputs": [
    {
     "data": {
      "image/png": "[encoded data removed]",
      "text/plain": [
       "<Figure size 640x480 with 1 Axes>"
      ]
     },
     "metadata": {},
     "output_type": "display_data"
    }
   ],
   "source": [
    "import matplotlib.pyplot as plt\n",
    "\n",
    "# Plotting the actual versus predicted values\n",
    "plt.scatter(y_test, y_pred, color='blue')\n",
    "plt.title('Actual vs Predicted')\n",
    "plt.xlabel('Actual Values')\n",
    "plt.ylabel('Predicted Values')\n",
    "plt.show()"
   ]
  },
  {
   "cell_type": "code",
   "execution_count": null,
   "id": "2d25e99c-f3a8-4e0b-936c-595bc3b391c9",
   "metadata": {},
   "outputs": [],
   "source": []
  }
 ],
 "metadata": {
  "kernelspec": {
   "display_name": "Python 3 (ipykernel)",
   "language": "python",
   "name": "python3"
  },
  "language_info": {
   "codemirror_mode": {
    "name": "ipython",
    "version": 3
   },
   "file_extension": ".py",
   "mimetype": "text/x-python",
   "name": "python",
   "nbconvert_exporter": "python",
   "pygments_lexer": "ipython3",
   "version": "3.11.5"
  }
 },
 "nbformat": 4,
 "nbformat_minor": 5
}
